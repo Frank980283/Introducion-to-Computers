{
  "nbformat": 4,
  "nbformat_minor": 0,
  "metadata": {
    "colab": {
      "name": "0509",
      "provenance": [],
      "authorship_tag": "ABX9TyOQpALvfZONk/84/BkXdU5J",
      "include_colab_link": true
    },
    "kernelspec": {
      "name": "python3",
      "display_name": "Python 3"
    },
    "language_info": {
      "name": "python"
    }
  },
  "cells": [
    {
      "cell_type": "markdown",
      "metadata": {
        "id": "view-in-github",
        "colab_type": "text"
      },
      "source": [
        "<a href=\"https://colab.research.google.com/github/Frank980283/Introducion-to-Computers/blob/main/0509.ipynb\" target=\"_parent\"><img src=\"https://colab.research.google.com/assets/colab-badge.svg\" alt=\"Open In Colab\"/></a>"
      ]
    },
    {
      "cell_type": "code",
      "execution_count": 1,
      "metadata": {
        "colab": {
          "base_uri": "https://localhost:8080/"
        },
        "id": "tGeCOP24LCQp",
        "outputId": "a78510d9-04b1-49f2-898b-0c9309159c96"
      },
      "outputs": [
        {
          "output_type": "stream",
          "name": "stdout",
          "text": [
            "123\n"
          ]
        }
      ],
      "source": [
        "\n",
        "print(\"123\")"
      ]
    },
    {
      "cell_type": "code",
      "source": [
        "temp=float(input(\"請輸入你的體溫\"))\n",
        "if (temp>=37.5):\n",
        "  print(\"體溫過高！\")\n",
        "elif (temp>=37 and temp<37.4):\n",
        "  print(\"體溫略高！\")\n",
        "elif (temp>=34 and temp<=36.5):\n",
        "  print(\"體溫正常！\")\n",
        "else:\n",
        "  print(\"體溫異常，請重新量測！\")"
      ],
      "metadata": {
        "colab": {
          "base_uri": "https://localhost:8080/"
        },
        "id": "mLm9YhaQLGvw",
        "outputId": "a071ddfb-21d4-455a-f81e-196f4191d472"
      },
      "execution_count": 2,
      "outputs": [
        {
          "output_type": "stream",
          "name": "stdout",
          "text": [
            "請輸入你的體溫39.5\n",
            "體溫過高！\n"
          ]
        }
      ]
    },
    {
      "cell_type": "code",
      "source": [
        "score=int(input(\"請輸入成績\"))\n",
        "if (score>=90):\n",
        "  print(\"A\")\n",
        "elif (score>=80):\n",
        "  print(\"B\")\n",
        "elif (score>=70):\n",
        "  print(\"C\")\n",
        "elif (score>=60):\n",
        "  print(\"D\")\n",
        "else:\n",
        "  print(\"E\")"
      ],
      "metadata": {
        "colab": {
          "base_uri": "https://localhost:8080/"
        },
        "id": "Zxdnl8BGLNP0",
        "outputId": "5f8b5a4b-2829-43e0-9c29-798b6c30c596"
      },
      "execution_count": 3,
      "outputs": [
        {
          "output_type": "stream",
          "name": "stdout",
          "text": [
            "請輸入成績100\n",
            "A\n"
          ]
        }
      ]
    },
    {
      "cell_type": "code",
      "source": [
        "money=int(input(\"請輸入購物金額\"))\n",
        "if (money>=10000):\n",
        "  if (money>=100000):\n",
        "    print(\"八折\",money*0.8,end=\"元\\n\")\n",
        "  elif (money>=50000):\n",
        "    print(\"八五折\",money*0.85,end=\"元\\n\")\n",
        "  elif (money>=30000):\n",
        "    print(\"九折\",money*0.9,end=\"元\\n\")\n",
        "  else:\n",
        "    print(\"九五折\",money*0.95,end=\"元\\n\")\n",
        "else:\n",
        "  print(\"沒打折\",money,end=\"元\\n\")"
      ],
      "metadata": {
        "colab": {
          "base_uri": "https://localhost:8080/"
        },
        "id": "HfgAWsZsLSTc",
        "outputId": "42aa7c83-b06c-4bf5-f798-ca9fa51457d2"
      },
      "execution_count": 4,
      "outputs": [
        {
          "output_type": "stream",
          "name": "stdout",
          "text": [
            "請輸入購物金額10000\n",
            "九五折 9500.0元\n"
          ]
        }
      ]
    },
    {
      "cell_type": "code",
      "source": [
        "season=int(input(\"請輸入月份\"))\n",
        "if (season>=1 and season<=12):\n",
        "  if (season>=3 and season<=5):\n",
        "    print(season,\"月是春天！\",sep='')\n",
        "  elif (season>=6 and season<=8):\n",
        "    print(season,\"月是夏天！\",sep='')\n",
        "  elif (season>=9 and season<=11):\n",
        "    print(season,\"月是秋天！\",sep='')\n",
        "  else:\n",
        "    print(season,\"月是冬天！\",sep='')\n",
        "else:\n",
        "  print(\"月份不在範圍內！\")"
      ],
      "metadata": {
        "colab": {
          "base_uri": "https://localhost:8080/"
        },
        "id": "RMK6M_q6LXzD",
        "outputId": "ede0475a-d8a1-4e1e-95d6-51217d642445"
      },
      "execution_count": 5,
      "outputs": [
        {
          "output_type": "stream",
          "name": "stdout",
          "text": [
            "請輸入月份9\n",
            "9月是秋天！\n"
          ]
        }
      ]
    },
    {
      "cell_type": "code",
      "source": [
        "income=int(input(\"請輸入今年收入淨額\"))\n",
        "if (income>=300000):\n",
        "  if (income>=2000000):\n",
        "    print(\"付稅金額:\",income*0.3,end=\"元\\n\")\n",
        "  elif (income>=1000000):\n",
        "    print(\"付稅金額:\",income*0.21,end=\"元\\n\")\n",
        "  elif (income>=600000):\n",
        "    print(\"付稅金額:\",income*0.13,end=\"元\\n\")\n",
        "  else:\n",
        "    print(\"付稅金額:\",income*0.06,end=\"元\\n\")\n",
        "else:\n",
        "  print(\"付稅金額:0元\")\n",
        "  "
      ],
      "metadata": {
        "colab": {
          "base_uri": "https://localhost:8080/"
        },
        "id": "GmmBHcQhLbtC",
        "outputId": "74e5e90f-34b7-4673-9c78-230b4b1b59f6"
      },
      "execution_count": 6,
      "outputs": [
        {
          "output_type": "stream",
          "name": "stdout",
          "text": [
            "請輸入今年收入淨額100000\n",
            "付稅金額:0元\n"
          ]
        }
      ]
    }
  ]
}